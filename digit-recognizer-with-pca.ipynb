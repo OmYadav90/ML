{
 "cells": [
  {
   "cell_type": "code",
   "execution_count": 1,
   "id": "753312d0",
   "metadata": {
    "_cell_guid": "b1076dfc-b9ad-4769-8c92-a6c4dae69d19",
    "_uuid": "8f2839f25d086af736a60e9eeb907d3b93b6e0e5",
    "execution": {
     "iopub.execute_input": "2023-05-18T19:30:37.997749Z",
     "iopub.status.busy": "2023-05-18T19:30:37.997107Z",
     "iopub.status.idle": "2023-05-18T19:30:38.008878Z",
     "shell.execute_reply": "2023-05-18T19:30:38.008011Z"
    },
    "papermill": {
     "duration": 0.024033,
     "end_time": "2023-05-18T19:30:38.011402",
     "exception": false,
     "start_time": "2023-05-18T19:30:37.987369",
     "status": "completed"
    },
    "tags": []
   },
   "outputs": [
    {
     "name": "stdout",
     "output_type": "stream",
     "text": [
      "/kaggle/input/digit-recognizer/sample_submission.csv\n",
      "/kaggle/input/digit-recognizer/train.csv\n",
      "/kaggle/input/digit-recognizer/test.csv\n"
     ]
    }
   ],
   "source": [
    "# This Python 3 environment comes with many helpful analytics libraries installed\n",
    "# It is defined by the kaggle/python Docker image: https://github.com/kaggle/docker-python\n",
    "# For example, here's several helpful packages to load\n",
    "\n",
    "import numpy as np # linear algebra\n",
    "import pandas as pd # data processing, CSV file I/O (e.g. pd.read_csv)\n",
    "\n",
    "# Input data files are available in the read-only \"../input/\" directory\n",
    "# For example, running this (by clicking run or pressing Shift+Enter) will list all files under the input directory\n",
    "\n",
    "import os\n",
    "for dirname, _, filenames in os.walk('/kaggle/input'):\n",
    "    for filename in filenames:\n",
    "        print(os.path.join(dirname, filename))\n",
    "\n",
    "# You can write up to 20GB to the current directory (/kaggle/working/) that gets preserved as output when you create a version using \"Save & Run All\" \n",
    "# You can also write temporary files to /kaggle/temp/, but they won't be saved outside of the current session"
   ]
  },
  {
   "cell_type": "code",
   "execution_count": 2,
   "id": "2db1993a",
   "metadata": {
    "execution": {
     "iopub.execute_input": "2023-05-18T19:30:38.028135Z",
     "iopub.status.busy": "2023-05-18T19:30:38.027787Z",
     "iopub.status.idle": "2023-05-18T19:30:40.443872Z",
     "shell.execute_reply": "2023-05-18T19:30:40.442992Z"
    },
    "papermill": {
     "duration": 2.427049,
     "end_time": "2023-05-18T19:30:40.446363",
     "exception": false,
     "start_time": "2023-05-18T19:30:38.019314",
     "status": "completed"
    },
    "tags": []
   },
   "outputs": [],
   "source": [
    "#Will Work only on Train data set\n",
    "df = pd.read_csv('/kaggle/input/digit-recognizer/train.csv')"
   ]
  },
  {
   "cell_type": "code",
   "execution_count": 3,
   "id": "1405aab6",
   "metadata": {
    "execution": {
     "iopub.execute_input": "2023-05-18T19:30:40.463599Z",
     "iopub.status.busy": "2023-05-18T19:30:40.463249Z",
     "iopub.status.idle": "2023-05-18T19:30:40.500556Z",
     "shell.execute_reply": "2023-05-18T19:30:40.499731Z"
    },
    "papermill": {
     "duration": 0.048598,
     "end_time": "2023-05-18T19:30:40.502751",
     "exception": false,
     "start_time": "2023-05-18T19:30:40.454153",
     "status": "completed"
    },
    "tags": []
   },
   "outputs": [
    {
     "data": {
      "text/html": [
       "<div>\n",
       "<style scoped>\n",
       "    .dataframe tbody tr th:only-of-type {\n",
       "        vertical-align: middle;\n",
       "    }\n",
       "\n",
       "    .dataframe tbody tr th {\n",
       "        vertical-align: top;\n",
       "    }\n",
       "\n",
       "    .dataframe thead th {\n",
       "        text-align: right;\n",
       "    }\n",
       "</style>\n",
       "<table border=\"1\" class=\"dataframe\">\n",
       "  <thead>\n",
       "    <tr style=\"text-align: right;\">\n",
       "      <th></th>\n",
       "      <th>label</th>\n",
       "      <th>pixel0</th>\n",
       "      <th>pixel1</th>\n",
       "      <th>pixel2</th>\n",
       "      <th>pixel3</th>\n",
       "      <th>pixel4</th>\n",
       "      <th>pixel5</th>\n",
       "      <th>pixel6</th>\n",
       "      <th>pixel7</th>\n",
       "      <th>pixel8</th>\n",
       "      <th>...</th>\n",
       "      <th>pixel774</th>\n",
       "      <th>pixel775</th>\n",
       "      <th>pixel776</th>\n",
       "      <th>pixel777</th>\n",
       "      <th>pixel778</th>\n",
       "      <th>pixel779</th>\n",
       "      <th>pixel780</th>\n",
       "      <th>pixel781</th>\n",
       "      <th>pixel782</th>\n",
       "      <th>pixel783</th>\n",
       "    </tr>\n",
       "  </thead>\n",
       "  <tbody>\n",
       "    <tr>\n",
       "      <th>22541</th>\n",
       "      <td>0</td>\n",
       "      <td>0</td>\n",
       "      <td>0</td>\n",
       "      <td>0</td>\n",
       "      <td>0</td>\n",
       "      <td>0</td>\n",
       "      <td>0</td>\n",
       "      <td>0</td>\n",
       "      <td>0</td>\n",
       "      <td>0</td>\n",
       "      <td>...</td>\n",
       "      <td>0</td>\n",
       "      <td>0</td>\n",
       "      <td>0</td>\n",
       "      <td>0</td>\n",
       "      <td>0</td>\n",
       "      <td>0</td>\n",
       "      <td>0</td>\n",
       "      <td>0</td>\n",
       "      <td>0</td>\n",
       "      <td>0</td>\n",
       "    </tr>\n",
       "    <tr>\n",
       "      <th>25084</th>\n",
       "      <td>7</td>\n",
       "      <td>0</td>\n",
       "      <td>0</td>\n",
       "      <td>0</td>\n",
       "      <td>0</td>\n",
       "      <td>0</td>\n",
       "      <td>0</td>\n",
       "      <td>0</td>\n",
       "      <td>0</td>\n",
       "      <td>0</td>\n",
       "      <td>...</td>\n",
       "      <td>0</td>\n",
       "      <td>0</td>\n",
       "      <td>0</td>\n",
       "      <td>0</td>\n",
       "      <td>0</td>\n",
       "      <td>0</td>\n",
       "      <td>0</td>\n",
       "      <td>0</td>\n",
       "      <td>0</td>\n",
       "      <td>0</td>\n",
       "    </tr>\n",
       "    <tr>\n",
       "      <th>17990</th>\n",
       "      <td>9</td>\n",
       "      <td>0</td>\n",
       "      <td>0</td>\n",
       "      <td>0</td>\n",
       "      <td>0</td>\n",
       "      <td>0</td>\n",
       "      <td>0</td>\n",
       "      <td>0</td>\n",
       "      <td>0</td>\n",
       "      <td>0</td>\n",
       "      <td>...</td>\n",
       "      <td>0</td>\n",
       "      <td>0</td>\n",
       "      <td>0</td>\n",
       "      <td>0</td>\n",
       "      <td>0</td>\n",
       "      <td>0</td>\n",
       "      <td>0</td>\n",
       "      <td>0</td>\n",
       "      <td>0</td>\n",
       "      <td>0</td>\n",
       "    </tr>\n",
       "    <tr>\n",
       "      <th>4253</th>\n",
       "      <td>3</td>\n",
       "      <td>0</td>\n",
       "      <td>0</td>\n",
       "      <td>0</td>\n",
       "      <td>0</td>\n",
       "      <td>0</td>\n",
       "      <td>0</td>\n",
       "      <td>0</td>\n",
       "      <td>0</td>\n",
       "      <td>0</td>\n",
       "      <td>...</td>\n",
       "      <td>0</td>\n",
       "      <td>0</td>\n",
       "      <td>0</td>\n",
       "      <td>0</td>\n",
       "      <td>0</td>\n",
       "      <td>0</td>\n",
       "      <td>0</td>\n",
       "      <td>0</td>\n",
       "      <td>0</td>\n",
       "      <td>0</td>\n",
       "    </tr>\n",
       "    <tr>\n",
       "      <th>26534</th>\n",
       "      <td>4</td>\n",
       "      <td>0</td>\n",
       "      <td>0</td>\n",
       "      <td>0</td>\n",
       "      <td>0</td>\n",
       "      <td>0</td>\n",
       "      <td>0</td>\n",
       "      <td>0</td>\n",
       "      <td>0</td>\n",
       "      <td>0</td>\n",
       "      <td>...</td>\n",
       "      <td>0</td>\n",
       "      <td>0</td>\n",
       "      <td>0</td>\n",
       "      <td>0</td>\n",
       "      <td>0</td>\n",
       "      <td>0</td>\n",
       "      <td>0</td>\n",
       "      <td>0</td>\n",
       "      <td>0</td>\n",
       "      <td>0</td>\n",
       "    </tr>\n",
       "  </tbody>\n",
       "</table>\n",
       "<p>5 rows × 785 columns</p>\n",
       "</div>"
      ],
      "text/plain": [
       "       label  pixel0  pixel1  pixel2  pixel3  pixel4  pixel5  pixel6  pixel7  \\\n",
       "22541      0       0       0       0       0       0       0       0       0   \n",
       "25084      7       0       0       0       0       0       0       0       0   \n",
       "17990      9       0       0       0       0       0       0       0       0   \n",
       "4253       3       0       0       0       0       0       0       0       0   \n",
       "26534      4       0       0       0       0       0       0       0       0   \n",
       "\n",
       "       pixel8  ...  pixel774  pixel775  pixel776  pixel777  pixel778  \\\n",
       "22541       0  ...         0         0         0         0         0   \n",
       "25084       0  ...         0         0         0         0         0   \n",
       "17990       0  ...         0         0         0         0         0   \n",
       "4253        0  ...         0         0         0         0         0   \n",
       "26534       0  ...         0         0         0         0         0   \n",
       "\n",
       "       pixel779  pixel780  pixel781  pixel782  pixel783  \n",
       "22541         0         0         0         0         0  \n",
       "25084         0         0         0         0         0  \n",
       "17990         0         0         0         0         0  \n",
       "4253          0         0         0         0         0  \n",
       "26534         0         0         0         0         0  \n",
       "\n",
       "[5 rows x 785 columns]"
      ]
     },
     "execution_count": 3,
     "metadata": {},
     "output_type": "execute_result"
    }
   ],
   "source": [
    "df.sample(5)"
   ]
  },
  {
   "cell_type": "code",
   "execution_count": 4,
   "id": "7c9f3d7a",
   "metadata": {
    "execution": {
     "iopub.execute_input": "2023-05-18T19:30:40.519637Z",
     "iopub.status.busy": "2023-05-18T19:30:40.519337Z",
     "iopub.status.idle": "2023-05-18T19:30:40.524061Z",
     "shell.execute_reply": "2023-05-18T19:30:40.523270Z"
    },
    "papermill": {
     "duration": 0.015449,
     "end_time": "2023-05-18T19:30:40.526059",
     "exception": false,
     "start_time": "2023-05-18T19:30:40.510610",
     "status": "completed"
    },
    "tags": []
   },
   "outputs": [
    {
     "data": {
      "text/plain": [
       "(42000, 785)"
      ]
     },
     "execution_count": 4,
     "metadata": {},
     "output_type": "execute_result"
    }
   ],
   "source": [
    "#Shape of Dataset\n",
    "df.shape"
   ]
  },
  {
   "cell_type": "code",
   "execution_count": 5,
   "id": "09265c43",
   "metadata": {
    "execution": {
     "iopub.execute_input": "2023-05-18T19:30:40.542722Z",
     "iopub.status.busy": "2023-05-18T19:30:40.542432Z",
     "iopub.status.idle": "2023-05-18T19:30:42.457221Z",
     "shell.execute_reply": "2023-05-18T19:30:42.456200Z"
    },
    "papermill": {
     "duration": 1.925497,
     "end_time": "2023-05-18T19:30:42.459104",
     "exception": false,
     "start_time": "2023-05-18T19:30:40.533607",
     "status": "completed"
    },
    "tags": []
   },
   "outputs": [
    {
     "data": {
      "text/html": [
       "<div>\n",
       "<style scoped>\n",
       "    .dataframe tbody tr th:only-of-type {\n",
       "        vertical-align: middle;\n",
       "    }\n",
       "\n",
       "    .dataframe tbody tr th {\n",
       "        vertical-align: top;\n",
       "    }\n",
       "\n",
       "    .dataframe thead th {\n",
       "        text-align: right;\n",
       "    }\n",
       "</style>\n",
       "<table border=\"1\" class=\"dataframe\">\n",
       "  <thead>\n",
       "    <tr style=\"text-align: right;\">\n",
       "      <th></th>\n",
       "      <th>label</th>\n",
       "      <th>pixel0</th>\n",
       "      <th>pixel1</th>\n",
       "      <th>pixel2</th>\n",
       "      <th>pixel3</th>\n",
       "      <th>pixel4</th>\n",
       "      <th>pixel5</th>\n",
       "      <th>pixel6</th>\n",
       "      <th>pixel7</th>\n",
       "      <th>pixel8</th>\n",
       "      <th>...</th>\n",
       "      <th>pixel774</th>\n",
       "      <th>pixel775</th>\n",
       "      <th>pixel776</th>\n",
       "      <th>pixel777</th>\n",
       "      <th>pixel778</th>\n",
       "      <th>pixel779</th>\n",
       "      <th>pixel780</th>\n",
       "      <th>pixel781</th>\n",
       "      <th>pixel782</th>\n",
       "      <th>pixel783</th>\n",
       "    </tr>\n",
       "  </thead>\n",
       "  <tbody>\n",
       "    <tr>\n",
       "      <th>count</th>\n",
       "      <td>42000.000000</td>\n",
       "      <td>42000.0</td>\n",
       "      <td>42000.0</td>\n",
       "      <td>42000.0</td>\n",
       "      <td>42000.0</td>\n",
       "      <td>42000.0</td>\n",
       "      <td>42000.0</td>\n",
       "      <td>42000.0</td>\n",
       "      <td>42000.0</td>\n",
       "      <td>42000.0</td>\n",
       "      <td>...</td>\n",
       "      <td>42000.000000</td>\n",
       "      <td>42000.000000</td>\n",
       "      <td>42000.000000</td>\n",
       "      <td>42000.00000</td>\n",
       "      <td>42000.000000</td>\n",
       "      <td>42000.000000</td>\n",
       "      <td>42000.0</td>\n",
       "      <td>42000.0</td>\n",
       "      <td>42000.0</td>\n",
       "      <td>42000.0</td>\n",
       "    </tr>\n",
       "    <tr>\n",
       "      <th>mean</th>\n",
       "      <td>4.456643</td>\n",
       "      <td>0.0</td>\n",
       "      <td>0.0</td>\n",
       "      <td>0.0</td>\n",
       "      <td>0.0</td>\n",
       "      <td>0.0</td>\n",
       "      <td>0.0</td>\n",
       "      <td>0.0</td>\n",
       "      <td>0.0</td>\n",
       "      <td>0.0</td>\n",
       "      <td>...</td>\n",
       "      <td>0.219286</td>\n",
       "      <td>0.117095</td>\n",
       "      <td>0.059024</td>\n",
       "      <td>0.02019</td>\n",
       "      <td>0.017238</td>\n",
       "      <td>0.002857</td>\n",
       "      <td>0.0</td>\n",
       "      <td>0.0</td>\n",
       "      <td>0.0</td>\n",
       "      <td>0.0</td>\n",
       "    </tr>\n",
       "    <tr>\n",
       "      <th>std</th>\n",
       "      <td>2.887730</td>\n",
       "      <td>0.0</td>\n",
       "      <td>0.0</td>\n",
       "      <td>0.0</td>\n",
       "      <td>0.0</td>\n",
       "      <td>0.0</td>\n",
       "      <td>0.0</td>\n",
       "      <td>0.0</td>\n",
       "      <td>0.0</td>\n",
       "      <td>0.0</td>\n",
       "      <td>...</td>\n",
       "      <td>6.312890</td>\n",
       "      <td>4.633819</td>\n",
       "      <td>3.274488</td>\n",
       "      <td>1.75987</td>\n",
       "      <td>1.894498</td>\n",
       "      <td>0.414264</td>\n",
       "      <td>0.0</td>\n",
       "      <td>0.0</td>\n",
       "      <td>0.0</td>\n",
       "      <td>0.0</td>\n",
       "    </tr>\n",
       "    <tr>\n",
       "      <th>min</th>\n",
       "      <td>0.000000</td>\n",
       "      <td>0.0</td>\n",
       "      <td>0.0</td>\n",
       "      <td>0.0</td>\n",
       "      <td>0.0</td>\n",
       "      <td>0.0</td>\n",
       "      <td>0.0</td>\n",
       "      <td>0.0</td>\n",
       "      <td>0.0</td>\n",
       "      <td>0.0</td>\n",
       "      <td>...</td>\n",
       "      <td>0.000000</td>\n",
       "      <td>0.000000</td>\n",
       "      <td>0.000000</td>\n",
       "      <td>0.00000</td>\n",
       "      <td>0.000000</td>\n",
       "      <td>0.000000</td>\n",
       "      <td>0.0</td>\n",
       "      <td>0.0</td>\n",
       "      <td>0.0</td>\n",
       "      <td>0.0</td>\n",
       "    </tr>\n",
       "    <tr>\n",
       "      <th>25%</th>\n",
       "      <td>2.000000</td>\n",
       "      <td>0.0</td>\n",
       "      <td>0.0</td>\n",
       "      <td>0.0</td>\n",
       "      <td>0.0</td>\n",
       "      <td>0.0</td>\n",
       "      <td>0.0</td>\n",
       "      <td>0.0</td>\n",
       "      <td>0.0</td>\n",
       "      <td>0.0</td>\n",
       "      <td>...</td>\n",
       "      <td>0.000000</td>\n",
       "      <td>0.000000</td>\n",
       "      <td>0.000000</td>\n",
       "      <td>0.00000</td>\n",
       "      <td>0.000000</td>\n",
       "      <td>0.000000</td>\n",
       "      <td>0.0</td>\n",
       "      <td>0.0</td>\n",
       "      <td>0.0</td>\n",
       "      <td>0.0</td>\n",
       "    </tr>\n",
       "    <tr>\n",
       "      <th>50%</th>\n",
       "      <td>4.000000</td>\n",
       "      <td>0.0</td>\n",
       "      <td>0.0</td>\n",
       "      <td>0.0</td>\n",
       "      <td>0.0</td>\n",
       "      <td>0.0</td>\n",
       "      <td>0.0</td>\n",
       "      <td>0.0</td>\n",
       "      <td>0.0</td>\n",
       "      <td>0.0</td>\n",
       "      <td>...</td>\n",
       "      <td>0.000000</td>\n",
       "      <td>0.000000</td>\n",
       "      <td>0.000000</td>\n",
       "      <td>0.00000</td>\n",
       "      <td>0.000000</td>\n",
       "      <td>0.000000</td>\n",
       "      <td>0.0</td>\n",
       "      <td>0.0</td>\n",
       "      <td>0.0</td>\n",
       "      <td>0.0</td>\n",
       "    </tr>\n",
       "    <tr>\n",
       "      <th>75%</th>\n",
       "      <td>7.000000</td>\n",
       "      <td>0.0</td>\n",
       "      <td>0.0</td>\n",
       "      <td>0.0</td>\n",
       "      <td>0.0</td>\n",
       "      <td>0.0</td>\n",
       "      <td>0.0</td>\n",
       "      <td>0.0</td>\n",
       "      <td>0.0</td>\n",
       "      <td>0.0</td>\n",
       "      <td>...</td>\n",
       "      <td>0.000000</td>\n",
       "      <td>0.000000</td>\n",
       "      <td>0.000000</td>\n",
       "      <td>0.00000</td>\n",
       "      <td>0.000000</td>\n",
       "      <td>0.000000</td>\n",
       "      <td>0.0</td>\n",
       "      <td>0.0</td>\n",
       "      <td>0.0</td>\n",
       "      <td>0.0</td>\n",
       "    </tr>\n",
       "    <tr>\n",
       "      <th>max</th>\n",
       "      <td>9.000000</td>\n",
       "      <td>0.0</td>\n",
       "      <td>0.0</td>\n",
       "      <td>0.0</td>\n",
       "      <td>0.0</td>\n",
       "      <td>0.0</td>\n",
       "      <td>0.0</td>\n",
       "      <td>0.0</td>\n",
       "      <td>0.0</td>\n",
       "      <td>0.0</td>\n",
       "      <td>...</td>\n",
       "      <td>254.000000</td>\n",
       "      <td>254.000000</td>\n",
       "      <td>253.000000</td>\n",
       "      <td>253.00000</td>\n",
       "      <td>254.000000</td>\n",
       "      <td>62.000000</td>\n",
       "      <td>0.0</td>\n",
       "      <td>0.0</td>\n",
       "      <td>0.0</td>\n",
       "      <td>0.0</td>\n",
       "    </tr>\n",
       "  </tbody>\n",
       "</table>\n",
       "<p>8 rows × 785 columns</p>\n",
       "</div>"
      ],
      "text/plain": [
       "              label   pixel0   pixel1   pixel2   pixel3   pixel4   pixel5  \\\n",
       "count  42000.000000  42000.0  42000.0  42000.0  42000.0  42000.0  42000.0   \n",
       "mean       4.456643      0.0      0.0      0.0      0.0      0.0      0.0   \n",
       "std        2.887730      0.0      0.0      0.0      0.0      0.0      0.0   \n",
       "min        0.000000      0.0      0.0      0.0      0.0      0.0      0.0   \n",
       "25%        2.000000      0.0      0.0      0.0      0.0      0.0      0.0   \n",
       "50%        4.000000      0.0      0.0      0.0      0.0      0.0      0.0   \n",
       "75%        7.000000      0.0      0.0      0.0      0.0      0.0      0.0   \n",
       "max        9.000000      0.0      0.0      0.0      0.0      0.0      0.0   \n",
       "\n",
       "        pixel6   pixel7   pixel8  ...      pixel774      pixel775  \\\n",
       "count  42000.0  42000.0  42000.0  ...  42000.000000  42000.000000   \n",
       "mean       0.0      0.0      0.0  ...      0.219286      0.117095   \n",
       "std        0.0      0.0      0.0  ...      6.312890      4.633819   \n",
       "min        0.0      0.0      0.0  ...      0.000000      0.000000   \n",
       "25%        0.0      0.0      0.0  ...      0.000000      0.000000   \n",
       "50%        0.0      0.0      0.0  ...      0.000000      0.000000   \n",
       "75%        0.0      0.0      0.0  ...      0.000000      0.000000   \n",
       "max        0.0      0.0      0.0  ...    254.000000    254.000000   \n",
       "\n",
       "           pixel776     pixel777      pixel778      pixel779  pixel780  \\\n",
       "count  42000.000000  42000.00000  42000.000000  42000.000000   42000.0   \n",
       "mean       0.059024      0.02019      0.017238      0.002857       0.0   \n",
       "std        3.274488      1.75987      1.894498      0.414264       0.0   \n",
       "min        0.000000      0.00000      0.000000      0.000000       0.0   \n",
       "25%        0.000000      0.00000      0.000000      0.000000       0.0   \n",
       "50%        0.000000      0.00000      0.000000      0.000000       0.0   \n",
       "75%        0.000000      0.00000      0.000000      0.000000       0.0   \n",
       "max      253.000000    253.00000    254.000000     62.000000       0.0   \n",
       "\n",
       "       pixel781  pixel782  pixel783  \n",
       "count   42000.0   42000.0   42000.0  \n",
       "mean        0.0       0.0       0.0  \n",
       "std         0.0       0.0       0.0  \n",
       "min         0.0       0.0       0.0  \n",
       "25%         0.0       0.0       0.0  \n",
       "50%         0.0       0.0       0.0  \n",
       "75%         0.0       0.0       0.0  \n",
       "max         0.0       0.0       0.0  \n",
       "\n",
       "[8 rows x 785 columns]"
      ]
     },
     "execution_count": 5,
     "metadata": {},
     "output_type": "execute_result"
    }
   ],
   "source": [
    "#Dataset information\n",
    "df.describe()"
   ]
  },
  {
   "cell_type": "code",
   "execution_count": 6,
   "id": "fd2e1755",
   "metadata": {
    "execution": {
     "iopub.execute_input": "2023-05-18T19:30:42.476972Z",
     "iopub.status.busy": "2023-05-18T19:30:42.476622Z",
     "iopub.status.idle": "2023-05-18T19:30:42.518497Z",
     "shell.execute_reply": "2023-05-18T19:30:42.517269Z"
    },
    "papermill": {
     "duration": 0.05313,
     "end_time": "2023-05-18T19:30:42.520460",
     "exception": false,
     "start_time": "2023-05-18T19:30:42.467330",
     "status": "completed"
    },
    "tags": []
   },
   "outputs": [
    {
     "name": "stdout",
     "output_type": "stream",
     "text": [
      "<class 'pandas.core.frame.DataFrame'>\n",
      "RangeIndex: 42000 entries, 0 to 41999\n",
      "Columns: 785 entries, label to pixel783\n",
      "dtypes: int64(785)\n",
      "memory usage: 251.5 MB\n"
     ]
    }
   ],
   "source": [
    "df.info()"
   ]
  },
  {
   "cell_type": "code",
   "execution_count": 7,
   "id": "7486fa6f",
   "metadata": {
    "execution": {
     "iopub.execute_input": "2023-05-18T19:30:42.538578Z",
     "iopub.status.busy": "2023-05-18T19:30:42.538161Z",
     "iopub.status.idle": "2023-05-18T19:30:42.542910Z",
     "shell.execute_reply": "2023-05-18T19:30:42.542078Z"
    },
    "papermill": {
     "duration": 0.015815,
     "end_time": "2023-05-18T19:30:42.544605",
     "exception": false,
     "start_time": "2023-05-18T19:30:42.528790",
     "status": "completed"
    },
    "tags": []
   },
   "outputs": [],
   "source": [
    "#checking image files show correct So importing Graph libaray\n",
    "import matplotlib.pyplot as plt"
   ]
  },
  {
   "cell_type": "code",
   "execution_count": 8,
   "id": "083a38cc",
   "metadata": {
    "execution": {
     "iopub.execute_input": "2023-05-18T19:30:42.563629Z",
     "iopub.status.busy": "2023-05-18T19:30:42.563323Z",
     "iopub.status.idle": "2023-05-18T19:30:42.736420Z",
     "shell.execute_reply": "2023-05-18T19:30:42.735756Z"
    },
    "papermill": {
     "duration": 0.184469,
     "end_time": "2023-05-18T19:30:42.737985",
     "exception": false,
     "start_time": "2023-05-18T19:30:42.553516",
     "status": "completed"
    },
    "tags": []
   },
   "outputs": [
    {
     "data": {
      "text/plain": [
       "<matplotlib.image.AxesImage at 0x7ef078125ff0>"
      ]
     },
     "execution_count": 8,
     "metadata": {},
     "output_type": "execute_result"
    },
    {
     "data": {
      "image/png": "[encoded data removed]",
      "text/plain": [
       "<Figure size 640x480 with 1 Axes>"
      ]
     },
     "metadata": {},
     "output_type": "display_data"
    }
   ],
   "source": [
    "#checking image example\n",
    "plt.imshow(df.iloc[7306,1:].values.reshape(28,28))"
   ]
  },
  {
   "cell_type": "code",
   "execution_count": 9,
   "id": "af8a9cac",
   "metadata": {
    "execution": {
     "iopub.execute_input": "2023-05-18T19:30:42.756770Z",
     "iopub.status.busy": "2023-05-18T19:30:42.756256Z",
     "iopub.status.idle": "2023-05-18T19:30:42.915044Z",
     "shell.execute_reply": "2023-05-18T19:30:42.914192Z"
    },
    "papermill": {
     "duration": 0.1705,
     "end_time": "2023-05-18T19:30:42.917050",
     "exception": false,
     "start_time": "2023-05-18T19:30:42.746550",
     "status": "completed"
    },
    "tags": []
   },
   "outputs": [
    {
     "data": {
      "text/plain": [
       "<matplotlib.image.AxesImage at 0x7ef077d205b0>"
      ]
     },
     "execution_count": 9,
     "metadata": {},
     "output_type": "execute_result"
    },
    {
     "data": {
      "image/png": "[encoded data removed]",
      "text/plain": [
       "<Figure size 640x480 with 1 Axes>"
      ]
     },
     "metadata": {},
     "output_type": "display_data"
    }
   ],
   "source": [
    "#checking image example\n",
    "plt.imshow(df.iloc[40164,1:].values.reshape(28,28))"
   ]
  },
  {
   "cell_type": "code",
   "execution_count": 10,
   "id": "a8bd48ef",
   "metadata": {
    "execution": {
     "iopub.execute_input": "2023-05-18T19:30:42.936706Z",
     "iopub.status.busy": "2023-05-18T19:30:42.936340Z",
     "iopub.status.idle": "2023-05-18T19:30:42.941593Z",
     "shell.execute_reply": "2023-05-18T19:30:42.940326Z"
    },
    "papermill": {
     "duration": 0.017653,
     "end_time": "2023-05-18T19:30:42.943913",
     "exception": false,
     "start_time": "2023-05-18T19:30:42.926260",
     "status": "completed"
    },
    "tags": []
   },
   "outputs": [],
   "source": [
    "#Extract Value in X and Y(Column Selection)\n",
    "X = df.iloc[:,1:]\n",
    "y = df.iloc[:,0]"
   ]
  },
  {
   "cell_type": "code",
   "execution_count": 11,
   "id": "54c6a2d9",
   "metadata": {
    "execution": {
     "iopub.execute_input": "2023-05-18T19:30:42.963607Z",
     "iopub.status.busy": "2023-05-18T19:30:42.963146Z",
     "iopub.status.idle": "2023-05-18T19:30:42.970002Z",
     "shell.execute_reply": "2023-05-18T19:30:42.968687Z"
    },
    "papermill": {
     "duration": 0.019511,
     "end_time": "2023-05-18T19:30:42.972448",
     "exception": false,
     "start_time": "2023-05-18T19:30:42.952937",
     "status": "completed"
    },
    "tags": []
   },
   "outputs": [
    {
     "data": {
      "text/plain": [
       "(42000, 784)"
      ]
     },
     "execution_count": 11,
     "metadata": {},
     "output_type": "execute_result"
    }
   ],
   "source": [
    "X.shape"
   ]
  },
  {
   "cell_type": "code",
   "execution_count": 12,
   "id": "6c7db5ec",
   "metadata": {
    "execution": {
     "iopub.execute_input": "2023-05-18T19:30:42.991916Z",
     "iopub.status.busy": "2023-05-18T19:30:42.991570Z",
     "iopub.status.idle": "2023-05-18T19:30:42.997251Z",
     "shell.execute_reply": "2023-05-18T19:30:42.996434Z"
    },
    "papermill": {
     "duration": 0.017459,
     "end_time": "2023-05-18T19:30:42.999005",
     "exception": false,
     "start_time": "2023-05-18T19:30:42.981546",
     "status": "completed"
    },
    "tags": []
   },
   "outputs": [
    {
     "data": {
      "text/plain": [
       "(42000,)"
      ]
     },
     "execution_count": 12,
     "metadata": {},
     "output_type": "execute_result"
    }
   ],
   "source": [
    "y.shape"
   ]
  },
  {
   "cell_type": "code",
   "execution_count": 13,
   "id": "4122238f",
   "metadata": {
    "execution": {
     "iopub.execute_input": "2023-05-18T19:30:43.018760Z",
     "iopub.status.busy": "2023-05-18T19:30:43.018459Z",
     "iopub.status.idle": "2023-05-18T19:30:44.009540Z",
     "shell.execute_reply": "2023-05-18T19:30:44.008598Z"
    },
    "papermill": {
     "duration": 1.003722,
     "end_time": "2023-05-18T19:30:44.011863",
     "exception": false,
     "start_time": "2023-05-18T19:30:43.008141",
     "status": "completed"
    },
    "tags": []
   },
   "outputs": [
    {
     "name": "stderr",
     "output_type": "stream",
     "text": [
      "/opt/conda/lib/python3.10/site-packages/scipy/__init__.py:146: UserWarning: A NumPy version >=1.16.5 and <1.23.0 is required for this version of SciPy (detected version 1.23.5\n",
      "  warnings.warn(f\"A NumPy version >={np_minversion} and <{np_maxversion}\"\n"
     ]
    }
   ],
   "source": [
    "#Model Selection\n",
    "from sklearn.model_selection import train_test_split"
   ]
  },
  {
   "cell_type": "code",
   "execution_count": 14,
   "id": "3ec5730a",
   "metadata": {
    "execution": {
     "iopub.execute_input": "2023-05-18T19:30:44.032307Z",
     "iopub.status.busy": "2023-05-18T19:30:44.031872Z",
     "iopub.status.idle": "2023-05-18T19:30:44.238964Z",
     "shell.execute_reply": "2023-05-18T19:30:44.237885Z"
    },
    "papermill": {
     "duration": 0.219785,
     "end_time": "2023-05-18T19:30:44.241087",
     "exception": false,
     "start_time": "2023-05-18T19:30:44.021302",
     "status": "completed"
    },
    "tags": []
   },
   "outputs": [],
   "source": [
    "X_train,X_test,y_train,y_test = train_test_split(X,y,test_size = 0.25, random_state = 42)"
   ]
  },
  {
   "cell_type": "code",
   "execution_count": 15,
   "id": "b7c0d899",
   "metadata": {
    "execution": {
     "iopub.execute_input": "2023-05-18T19:30:44.260723Z",
     "iopub.status.busy": "2023-05-18T19:30:44.260176Z",
     "iopub.status.idle": "2023-05-18T19:30:44.265239Z",
     "shell.execute_reply": "2023-05-18T19:30:44.264385Z"
    },
    "papermill": {
     "duration": 0.016856,
     "end_time": "2023-05-18T19:30:44.267000",
     "exception": false,
     "start_time": "2023-05-18T19:30:44.250144",
     "status": "completed"
    },
    "tags": []
   },
   "outputs": [
    {
     "data": {
      "text/plain": [
       "(31500, 784)"
      ]
     },
     "execution_count": 15,
     "metadata": {},
     "output_type": "execute_result"
    }
   ],
   "source": [
    "X_train.shape"
   ]
  },
  {
   "cell_type": "code",
   "execution_count": 16,
   "id": "e63d3089",
   "metadata": {
    "execution": {
     "iopub.execute_input": "2023-05-18T19:30:44.286993Z",
     "iopub.status.busy": "2023-05-18T19:30:44.286633Z",
     "iopub.status.idle": "2023-05-18T19:30:44.292353Z",
     "shell.execute_reply": "2023-05-18T19:30:44.291488Z"
    },
    "papermill": {
     "duration": 0.018201,
     "end_time": "2023-05-18T19:30:44.294550",
     "exception": false,
     "start_time": "2023-05-18T19:30:44.276349",
     "status": "completed"
    },
    "tags": []
   },
   "outputs": [
    {
     "data": {
      "text/plain": [
       "(31500,)"
      ]
     },
     "execution_count": 16,
     "metadata": {},
     "output_type": "execute_result"
    }
   ],
   "source": [
    "y_train.shape"
   ]
  },
  {
   "cell_type": "code",
   "execution_count": 17,
   "id": "2830b95a",
   "metadata": {
    "execution": {
     "iopub.execute_input": "2023-05-18T19:30:44.315080Z",
     "iopub.status.busy": "2023-05-18T19:30:44.314692Z",
     "iopub.status.idle": "2023-05-18T19:30:44.525069Z",
     "shell.execute_reply": "2023-05-18T19:30:44.523677Z"
    },
    "papermill": {
     "duration": 0.223434,
     "end_time": "2023-05-18T19:30:44.527509",
     "exception": false,
     "start_time": "2023-05-18T19:30:44.304075",
     "status": "completed"
    },
    "tags": []
   },
   "outputs": [],
   "source": [
    "#Data centering\n",
    "from sklearn.neighbors import KNeighborsClassifier"
   ]
  },
  {
   "cell_type": "code",
   "execution_count": 18,
   "id": "c7879355",
   "metadata": {
    "execution": {
     "iopub.execute_input": "2023-05-18T19:30:44.548325Z",
     "iopub.status.busy": "2023-05-18T19:30:44.547871Z",
     "iopub.status.idle": "2023-05-18T19:30:44.552581Z",
     "shell.execute_reply": "2023-05-18T19:30:44.551668Z"
    },
    "papermill": {
     "duration": 0.017818,
     "end_time": "2023-05-18T19:30:44.554952",
     "exception": false,
     "start_time": "2023-05-18T19:30:44.537134",
     "status": "completed"
    },
    "tags": []
   },
   "outputs": [],
   "source": [
    "# making object\n",
    "knn = KNeighborsClassifier()"
   ]
  },
  {
   "cell_type": "code",
   "execution_count": 19,
   "id": "5ca7880a",
   "metadata": {
    "execution": {
     "iopub.execute_input": "2023-05-18T19:30:44.575228Z",
     "iopub.status.busy": "2023-05-18T19:30:44.574850Z",
     "iopub.status.idle": "2023-05-18T19:30:44.637496Z",
     "shell.execute_reply": "2023-05-18T19:30:44.636435Z"
    },
    "papermill": {
     "duration": 0.075316,
     "end_time": "2023-05-18T19:30:44.639802",
     "exception": false,
     "start_time": "2023-05-18T19:30:44.564486",
     "status": "completed"
    },
    "tags": []
   },
   "outputs": [
    {
     "data": {
      "text/html": [
       "<style>#sk-container-id-1 {color: black;background-color: white;}#sk-container-id-1 pre{padding: 0;}#sk-container-id-1 div.sk-toggleable {background-color: white;}#sk-container-id-1 label.sk-toggleable__label {cursor: pointer;display: block;width: 100%;margin-bottom: 0;padding: 0.3em;box-sizing: border-box;text-align: center;}#sk-container-id-1 label.sk-toggleable__label-arrow:before {content: \"▸\";float: left;margin-right: 0.25em;color: #696969;}#sk-container-id-1 label.sk-toggleable__label-arrow:hover:before {color: black;}#sk-container-id-1 div.sk-estimator:hover label.sk-toggleable__label-arrow:before {color: black;}#sk-container-id-1 div.sk-toggleable__content {max-height: 0;max-width: 0;overflow: hidden;text-align: left;background-color: #f0f8ff;}#sk-container-id-1 div.sk-toggleable__content pre {margin: 0.2em;color: black;border-radius: 0.25em;background-color: #f0f8ff;}#sk-container-id-1 input.sk-toggleable__control:checked~div.sk-toggleable__content {max-height: 200px;max-width: 100%;overflow: auto;}#sk-container-id-1 input.sk-toggleable__control:checked~label.sk-toggleable__label-arrow:before {content: \"▾\";}#sk-container-id-1 div.sk-estimator input.sk-toggleable__control:checked~label.sk-toggleable__label {background-color: #d4ebff;}#sk-container-id-1 div.sk-label input.sk-toggleable__control:checked~label.sk-toggleable__label {background-color: #d4ebff;}#sk-container-id-1 input.sk-hidden--visually {border: 0;clip: rect(1px 1px 1px 1px);clip: rect(1px, 1px, 1px, 1px);height: 1px;margin: -1px;overflow: hidden;padding: 0;position: absolute;width: 1px;}#sk-container-id-1 div.sk-estimator {font-family: monospace;background-color: #f0f8ff;border: 1px dotted black;border-radius: 0.25em;box-sizing: border-box;margin-bottom: 0.5em;}#sk-container-id-1 div.sk-estimator:hover {background-color: #d4ebff;}#sk-container-id-1 div.sk-parallel-item::after {content: \"\";width: 100%;border-bottom: 1px solid gray;flex-grow: 1;}#sk-container-id-1 div.sk-label:hover label.sk-toggleable__label {background-color: #d4ebff;}#sk-container-id-1 div.sk-serial::before {content: \"\";position: absolute;border-left: 1px solid gray;box-sizing: border-box;top: 0;bottom: 0;left: 50%;z-index: 0;}#sk-container-id-1 div.sk-serial {display: flex;flex-direction: column;align-items: center;background-color: white;padding-right: 0.2em;padding-left: 0.2em;position: relative;}#sk-container-id-1 div.sk-item {position: relative;z-index: 1;}#sk-container-id-1 div.sk-parallel {display: flex;align-items: stretch;justify-content: center;background-color: white;position: relative;}#sk-container-id-1 div.sk-item::before, #sk-container-id-1 div.sk-parallel-item::before {content: \"\";position: absolute;border-left: 1px solid gray;box-sizing: border-box;top: 0;bottom: 0;left: 50%;z-index: -1;}#sk-container-id-1 div.sk-parallel-item {display: flex;flex-direction: column;z-index: 1;position: relative;background-color: white;}#sk-container-id-1 div.sk-parallel-item:first-child::after {align-self: flex-end;width: 50%;}#sk-container-id-1 div.sk-parallel-item:last-child::after {align-self: flex-start;width: 50%;}#sk-container-id-1 div.sk-parallel-item:only-child::after {width: 0;}#sk-container-id-1 div.sk-dashed-wrapped {border: 1px dashed gray;margin: 0 0.4em 0.5em 0.4em;box-sizing: border-box;padding-bottom: 0.4em;background-color: white;}#sk-container-id-1 div.sk-label label {font-family: monospace;font-weight: bold;display: inline-block;line-height: 1.2em;}#sk-container-id-1 div.sk-label-container {text-align: center;}#sk-container-id-1 div.sk-container {/* jupyter's `normalize.less` sets `[hidden] { display: none; }` but bootstrap.min.css set `[hidden] { display: none !important; }` so we also need the `!important` here to be able to override the default hidden behavior on the sphinx rendered scikit-learn.org. See: https://github.com/scikit-learn/scikit-learn/issues/21755 */display: inline-block !important;position: relative;}#sk-container-id-1 div.sk-text-repr-fallback {display: none;}</style><div id=\"sk-container-id-1\" class=\"sk-top-container\"><div class=\"sk-text-repr-fallback\"><pre>KNeighborsClassifier()</pre><b>In a Jupyter environment, please rerun this cell to show the HTML representation or trust the notebook. <br />On GitHub, the HTML representation is unable to render, please try loading this page with nbviewer.org.</b></div><div class=\"sk-container\" hidden><div class=\"sk-item\"><div class=\"sk-estimator sk-toggleable\"><input class=\"sk-toggleable__control sk-hidden--visually\" id=\"sk-estimator-id-1\" type=\"checkbox\" checked><label for=\"sk-estimator-id-1\" class=\"sk-toggleable__label sk-toggleable__label-arrow\">KNeighborsClassifier</label><div class=\"sk-toggleable__content\"><pre>KNeighborsClassifier()</pre></div></div></div></div></div>"
      ],
      "text/plain": [
       "KNeighborsClassifier()"
      ]
     },
     "execution_count": 19,
     "metadata": {},
     "output_type": "execute_result"
    }
   ],
   "source": [
    "knn.fit(X_train,y_train)"
   ]
  },
  {
   "cell_type": "code",
   "execution_count": 20,
   "id": "5bb69ed5",
   "metadata": {
    "execution": {
     "iopub.execute_input": "2023-05-18T19:30:44.660024Z",
     "iopub.status.busy": "2023-05-18T19:30:44.659710Z",
     "iopub.status.idle": "2023-05-18T19:30:55.776253Z",
     "shell.execute_reply": "2023-05-18T19:30:55.775060Z"
    },
    "papermill": {
     "duration": 11.130413,
     "end_time": "2023-05-18T19:30:55.779861",
     "exception": false,
     "start_time": "2023-05-18T19:30:44.649448",
     "status": "completed"
    },
    "tags": []
   },
   "outputs": [],
   "source": [
    "y_pred = knn.predict(X_test)"
   ]
  },
  {
   "cell_type": "code",
   "execution_count": 21,
   "id": "9affe590",
   "metadata": {
    "execution": {
     "iopub.execute_input": "2023-05-18T19:30:55.805202Z",
     "iopub.status.busy": "2023-05-18T19:30:55.804109Z",
     "iopub.status.idle": "2023-05-18T19:30:55.812448Z",
     "shell.execute_reply": "2023-05-18T19:30:55.811686Z"
    },
    "papermill": {
     "duration": 0.021142,
     "end_time": "2023-05-18T19:30:55.814296",
     "exception": false,
     "start_time": "2023-05-18T19:30:55.793154",
     "status": "completed"
    },
    "tags": []
   },
   "outputs": [
    {
     "data": {
      "text/plain": [
       "0.9666666666666667"
      ]
     },
     "execution_count": 21,
     "metadata": {},
     "output_type": "execute_result"
    }
   ],
   "source": [
    "#checking Accuracy\n",
    "from sklearn.metrics import accuracy_score\n",
    "accuracy_score(y_test,y_pred)"
   ]
  },
  {
   "cell_type": "code",
   "execution_count": 22,
   "id": "538b96c3",
   "metadata": {
    "execution": {
     "iopub.execute_input": "2023-05-18T19:30:55.841481Z",
     "iopub.status.busy": "2023-05-18T19:30:55.840717Z",
     "iopub.status.idle": "2023-05-18T19:30:55.844980Z",
     "shell.execute_reply": "2023-05-18T19:30:55.844278Z"
    },
    "papermill": {
     "duration": 0.019627,
     "end_time": "2023-05-18T19:30:55.847017",
     "exception": false,
     "start_time": "2023-05-18T19:30:55.827390",
     "status": "completed"
    },
    "tags": []
   },
   "outputs": [],
   "source": [
    "#Using Preprocessing mean center\n",
    "from sklearn.preprocessing import StandardScaler\n",
    "scaler = StandardScaler()"
   ]
  },
  {
   "cell_type": "code",
   "execution_count": 23,
   "id": "caec1e1e",
   "metadata": {
    "execution": {
     "iopub.execute_input": "2023-05-18T19:30:55.867746Z",
     "iopub.status.busy": "2023-05-18T19:30:55.867007Z",
     "iopub.status.idle": "2023-05-18T19:30:56.213490Z",
     "shell.execute_reply": "2023-05-18T19:30:56.212475Z"
    },
    "papermill": {
     "duration": 0.358998,
     "end_time": "2023-05-18T19:30:56.215544",
     "exception": false,
     "start_time": "2023-05-18T19:30:55.856546",
     "status": "completed"
    },
    "tags": []
   },
   "outputs": [],
   "source": [
    "X_train = scaler.fit_transform(X_train)\n",
    "X_test = scaler.fit_transform(X_test)"
   ]
  },
  {
   "cell_type": "code",
   "execution_count": 24,
   "id": "a3f80c4f",
   "metadata": {
    "execution": {
     "iopub.execute_input": "2023-05-18T19:30:56.239564Z",
     "iopub.status.busy": "2023-05-18T19:30:56.238831Z",
     "iopub.status.idle": "2023-05-18T19:30:56.243890Z",
     "shell.execute_reply": "2023-05-18T19:30:56.242563Z"
    },
    "papermill": {
     "duration": 0.018284,
     "end_time": "2023-05-18T19:30:56.246161",
     "exception": false,
     "start_time": "2023-05-18T19:30:56.227877",
     "status": "completed"
    },
    "tags": []
   },
   "outputs": [],
   "source": [
    "#Using PCA reduce the Data columns and find the best number columns with high accuracy\n",
    "from sklearn.decomposition import PCA"
   ]
  },
  {
   "cell_type": "code",
   "execution_count": 25,
   "id": "583ce891",
   "metadata": {
    "execution": {
     "iopub.execute_input": "2023-05-18T19:30:56.271067Z",
     "iopub.status.busy": "2023-05-18T19:30:56.270755Z",
     "iopub.status.idle": "2023-05-18T19:30:56.275695Z",
     "shell.execute_reply": "2023-05-18T19:30:56.274242Z"
    },
    "papermill": {
     "duration": 0.020738,
     "end_time": "2023-05-18T19:30:56.277622",
     "exception": false,
     "start_time": "2023-05-18T19:30:56.256884",
     "status": "completed"
    },
    "tags": []
   },
   "outputs": [],
   "source": [
    "#Selecting All columns first time\n",
    "pca = PCA(n_components=None)"
   ]
  },
  {
   "cell_type": "code",
   "execution_count": 26,
   "id": "1ee7711c",
   "metadata": {
    "execution": {
     "iopub.execute_input": "2023-05-18T19:30:56.298637Z",
     "iopub.status.busy": "2023-05-18T19:30:56.297862Z",
     "iopub.status.idle": "2023-05-18T19:31:00.007554Z",
     "shell.execute_reply": "2023-05-18T19:31:00.006770Z"
    },
    "papermill": {
     "duration": 3.722484,
     "end_time": "2023-05-18T19:31:00.009753",
     "exception": false,
     "start_time": "2023-05-18T19:30:56.287269",
     "status": "completed"
    },
    "tags": []
   },
   "outputs": [],
   "source": [
    "X_train_trf = pca.fit_transform(X_train)\n",
    "X_test_trf = pca.fit_transform(X_test)"
   ]
  },
  {
   "cell_type": "code",
   "execution_count": 27,
   "id": "5e9a641c",
   "metadata": {
    "execution": {
     "iopub.execute_input": "2023-05-18T19:31:00.037288Z",
     "iopub.status.busy": "2023-05-18T19:31:00.036675Z",
     "iopub.status.idle": "2023-05-18T19:31:00.042692Z",
     "shell.execute_reply": "2023-05-18T19:31:00.041988Z"
    },
    "papermill": {
     "duration": 0.02516,
     "end_time": "2023-05-18T19:31:00.047162",
     "exception": false,
     "start_time": "2023-05-18T19:31:00.022002",
     "status": "completed"
    },
    "tags": []
   },
   "outputs": [
    {
     "data": {
      "text/plain": [
       "(31500, 784)"
      ]
     },
     "execution_count": 27,
     "metadata": {},
     "output_type": "execute_result"
    }
   ],
   "source": [
    "X_train.shape"
   ]
  },
  {
   "cell_type": "code",
   "execution_count": 28,
   "id": "7a0117ae",
   "metadata": {
    "execution": {
     "iopub.execute_input": "2023-05-18T19:31:00.074157Z",
     "iopub.status.busy": "2023-05-18T19:31:00.072906Z",
     "iopub.status.idle": "2023-05-18T19:31:04.719448Z",
     "shell.execute_reply": "2023-05-18T19:31:04.718632Z"
    },
    "papermill": {
     "duration": 4.66228,
     "end_time": "2023-05-18T19:31:04.721771",
     "exception": false,
     "start_time": "2023-05-18T19:31:00.059491",
     "status": "completed"
    },
    "tags": []
   },
   "outputs": [],
   "source": [
    "#Selecting 200 columns first time\n",
    "pca = PCA(n_components=200)\n",
    "X_train_trf = pca.fit_transform(X_train)\n",
    "X_test_trf = pca.fit_transform(X_test)"
   ]
  },
  {
   "cell_type": "code",
   "execution_count": 29,
   "id": "f79b13c5",
   "metadata": {
    "execution": {
     "iopub.execute_input": "2023-05-18T19:31:04.764902Z",
     "iopub.status.busy": "2023-05-18T19:31:04.763792Z",
     "iopub.status.idle": "2023-05-18T19:31:04.770087Z",
     "shell.execute_reply": "2023-05-18T19:31:04.769259Z"
    },
    "papermill": {
     "duration": 0.035142,
     "end_time": "2023-05-18T19:31:04.771984",
     "exception": false,
     "start_time": "2023-05-18T19:31:04.736842",
     "status": "completed"
    },
    "tags": []
   },
   "outputs": [
    {
     "data": {
      "text/plain": [
       "(31500, 200)"
      ]
     },
     "execution_count": 29,
     "metadata": {},
     "output_type": "execute_result"
    }
   ],
   "source": [
    "X_train_trf.shape"
   ]
  },
  {
   "cell_type": "code",
   "execution_count": 30,
   "id": "18f4b3c7",
   "metadata": {
    "execution": {
     "iopub.execute_input": "2023-05-18T19:31:04.798239Z",
     "iopub.status.busy": "2023-05-18T19:31:04.797863Z",
     "iopub.status.idle": "2023-05-18T19:31:04.801642Z",
     "shell.execute_reply": "2023-05-18T19:31:04.800983Z"
    },
    "papermill": {
     "duration": 0.018845,
     "end_time": "2023-05-18T19:31:04.803903",
     "exception": false,
     "start_time": "2023-05-18T19:31:04.785058",
     "status": "completed"
    },
    "tags": []
   },
   "outputs": [],
   "source": [
    "knn = KNeighborsClassifier()"
   ]
  },
  {
   "cell_type": "code",
   "execution_count": 31,
   "id": "fc2201bd",
   "metadata": {
    "execution": {
     "iopub.execute_input": "2023-05-18T19:31:04.825354Z",
     "iopub.status.busy": "2023-05-18T19:31:04.824570Z",
     "iopub.status.idle": "2023-05-18T19:31:04.845526Z",
     "shell.execute_reply": "2023-05-18T19:31:04.844580Z"
    },
    "papermill": {
     "duration": 0.034043,
     "end_time": "2023-05-18T19:31:04.847820",
     "exception": false,
     "start_time": "2023-05-18T19:31:04.813777",
     "status": "completed"
    },
    "tags": []
   },
   "outputs": [
    {
     "data": {
      "text/html": [
       "<style>#sk-container-id-2 {color: black;background-color: white;}#sk-container-id-2 pre{padding: 0;}#sk-container-id-2 div.sk-toggleable {background-color: white;}#sk-container-id-2 label.sk-toggleable__label {cursor: pointer;display: block;width: 100%;margin-bottom: 0;padding: 0.3em;box-sizing: border-box;text-align: center;}#sk-container-id-2 label.sk-toggleable__label-arrow:before {content: \"▸\";float: left;margin-right: 0.25em;color: #696969;}#sk-container-id-2 label.sk-toggleable__label-arrow:hover:before {color: black;}#sk-container-id-2 div.sk-estimator:hover label.sk-toggleable__label-arrow:before {color: black;}#sk-container-id-2 div.sk-toggleable__content {max-height: 0;max-width: 0;overflow: hidden;text-align: left;background-color: #f0f8ff;}#sk-container-id-2 div.sk-toggleable__content pre {margin: 0.2em;color: black;border-radius: 0.25em;background-color: #f0f8ff;}#sk-container-id-2 input.sk-toggleable__control:checked~div.sk-toggleable__content {max-height: 200px;max-width: 100%;overflow: auto;}#sk-container-id-2 input.sk-toggleable__control:checked~label.sk-toggleable__label-arrow:before {content: \"▾\";}#sk-container-id-2 div.sk-estimator input.sk-toggleable__control:checked~label.sk-toggleable__label {background-color: #d4ebff;}#sk-container-id-2 div.sk-label input.sk-toggleable__control:checked~label.sk-toggleable__label {background-color: #d4ebff;}#sk-container-id-2 input.sk-hidden--visually {border: 0;clip: rect(1px 1px 1px 1px);clip: rect(1px, 1px, 1px, 1px);height: 1px;margin: -1px;overflow: hidden;padding: 0;position: absolute;width: 1px;}#sk-container-id-2 div.sk-estimator {font-family: monospace;background-color: #f0f8ff;border: 1px dotted black;border-radius: 0.25em;box-sizing: border-box;margin-bottom: 0.5em;}#sk-container-id-2 div.sk-estimator:hover {background-color: #d4ebff;}#sk-container-id-2 div.sk-parallel-item::after {content: \"\";width: 100%;border-bottom: 1px solid gray;flex-grow: 1;}#sk-container-id-2 div.sk-label:hover label.sk-toggleable__label {background-color: #d4ebff;}#sk-container-id-2 div.sk-serial::before {content: \"\";position: absolute;border-left: 1px solid gray;box-sizing: border-box;top: 0;bottom: 0;left: 50%;z-index: 0;}#sk-container-id-2 div.sk-serial {display: flex;flex-direction: column;align-items: center;background-color: white;padding-right: 0.2em;padding-left: 0.2em;position: relative;}#sk-container-id-2 div.sk-item {position: relative;z-index: 1;}#sk-container-id-2 div.sk-parallel {display: flex;align-items: stretch;justify-content: center;background-color: white;position: relative;}#sk-container-id-2 div.sk-item::before, #sk-container-id-2 div.sk-parallel-item::before {content: \"\";position: absolute;border-left: 1px solid gray;box-sizing: border-box;top: 0;bottom: 0;left: 50%;z-index: -1;}#sk-container-id-2 div.sk-parallel-item {display: flex;flex-direction: column;z-index: 1;position: relative;background-color: white;}#sk-container-id-2 div.sk-parallel-item:first-child::after {align-self: flex-end;width: 50%;}#sk-container-id-2 div.sk-parallel-item:last-child::after {align-self: flex-start;width: 50%;}#sk-container-id-2 div.sk-parallel-item:only-child::after {width: 0;}#sk-container-id-2 div.sk-dashed-wrapped {border: 1px dashed gray;margin: 0 0.4em 0.5em 0.4em;box-sizing: border-box;padding-bottom: 0.4em;background-color: white;}#sk-container-id-2 div.sk-label label {font-family: monospace;font-weight: bold;display: inline-block;line-height: 1.2em;}#sk-container-id-2 div.sk-label-container {text-align: center;}#sk-container-id-2 div.sk-container {/* jupyter's `normalize.less` sets `[hidden] { display: none; }` but bootstrap.min.css set `[hidden] { display: none !important; }` so we also need the `!important` here to be able to override the default hidden behavior on the sphinx rendered scikit-learn.org. See: https://github.com/scikit-learn/scikit-learn/issues/21755 */display: inline-block !important;position: relative;}#sk-container-id-2 div.sk-text-repr-fallback {display: none;}</style><div id=\"sk-container-id-2\" class=\"sk-top-container\"><div class=\"sk-text-repr-fallback\"><pre>KNeighborsClassifier()</pre><b>In a Jupyter environment, please rerun this cell to show the HTML representation or trust the notebook. <br />On GitHub, the HTML representation is unable to render, please try loading this page with nbviewer.org.</b></div><div class=\"sk-container\" hidden><div class=\"sk-item\"><div class=\"sk-estimator sk-toggleable\"><input class=\"sk-toggleable__control sk-hidden--visually\" id=\"sk-estimator-id-2\" type=\"checkbox\" checked><label for=\"sk-estimator-id-2\" class=\"sk-toggleable__label sk-toggleable__label-arrow\">KNeighborsClassifier</label><div class=\"sk-toggleable__content\"><pre>KNeighborsClassifier()</pre></div></div></div></div></div>"
      ],
      "text/plain": [
       "KNeighborsClassifier()"
      ]
     },
     "execution_count": 31,
     "metadata": {},
     "output_type": "execute_result"
    }
   ],
   "source": [
    "knn.fit(X_train_trf,y_train)"
   ]
  },
  {
   "cell_type": "code",
   "execution_count": 32,
   "id": "8b01afda",
   "metadata": {
    "execution": {
     "iopub.execute_input": "2023-05-18T19:31:04.869523Z",
     "iopub.status.busy": "2023-05-18T19:31:04.869124Z",
     "iopub.status.idle": "2023-05-18T19:31:06.936559Z",
     "shell.execute_reply": "2023-05-18T19:31:06.935451Z"
    },
    "papermill": {
     "duration": 2.081064,
     "end_time": "2023-05-18T19:31:06.938826",
     "exception": false,
     "start_time": "2023-05-18T19:31:04.857762",
     "status": "completed"
    },
    "tags": []
   },
   "outputs": [],
   "source": [
    "y_pred = knn.predict(X_test_trf)"
   ]
  },
  {
   "cell_type": "code",
   "execution_count": 33,
   "id": "97737396",
   "metadata": {
    "execution": {
     "iopub.execute_input": "2023-05-18T19:31:06.961040Z",
     "iopub.status.busy": "2023-05-18T19:31:06.960676Z",
     "iopub.status.idle": "2023-05-18T19:31:06.965962Z",
     "shell.execute_reply": "2023-05-18T19:31:06.964430Z"
    },
    "papermill": {
     "duration": 0.019015,
     "end_time": "2023-05-18T19:31:06.968372",
     "exception": false,
     "start_time": "2023-05-18T19:31:06.949357",
     "status": "completed"
    },
    "tags": []
   },
   "outputs": [],
   "source": [
    "from sklearn.metrics import accuracy_score"
   ]
  },
  {
   "cell_type": "code",
   "execution_count": 34,
   "id": "e6a2f051",
   "metadata": {
    "execution": {
     "iopub.execute_input": "2023-05-18T19:31:06.991642Z",
     "iopub.status.busy": "2023-05-18T19:31:06.990859Z",
     "iopub.status.idle": "2023-05-18T19:31:06.998183Z",
     "shell.execute_reply": "2023-05-18T19:31:06.997445Z"
    },
    "papermill": {
     "duration": 0.021335,
     "end_time": "2023-05-18T19:31:06.999903",
     "exception": false,
     "start_time": "2023-05-18T19:31:06.978568",
     "status": "completed"
    },
    "tags": []
   },
   "outputs": [
    {
     "data": {
      "text/plain": [
       "0.6480952380952381"
      ]
     },
     "execution_count": 34,
     "metadata": {},
     "output_type": "execute_result"
    }
   ],
   "source": [
    "accuracy_score(y_test,y_pred)"
   ]
  },
  {
   "cell_type": "code",
   "execution_count": 35,
   "id": "e7ae85c5",
   "metadata": {
    "execution": {
     "iopub.execute_input": "2023-05-18T19:31:07.022465Z",
     "iopub.status.busy": "2023-05-18T19:31:07.021893Z",
     "iopub.status.idle": "2023-05-18T19:31:07.025785Z",
     "shell.execute_reply": "2023-05-18T19:31:07.025190Z"
    },
    "papermill": {
     "duration": 0.017594,
     "end_time": "2023-05-18T19:31:07.027462",
     "exception": false,
     "start_time": "2023-05-18T19:31:07.009868",
     "status": "completed"
    },
    "tags": []
   },
   "outputs": [],
   "source": [
    "from sklearn.metrics import accuracy_score"
   ]
  },
  {
   "cell_type": "code",
   "execution_count": 36,
   "id": "f7ad3e75",
   "metadata": {
    "execution": {
     "iopub.execute_input": "2023-05-18T19:31:07.049441Z",
     "iopub.status.busy": "2023-05-18T19:31:07.048878Z",
     "iopub.status.idle": "2023-05-18T19:32:29.906116Z",
     "shell.execute_reply": "2023-05-18T19:32:29.904307Z"
    },
    "papermill": {
     "duration": 82.871046,
     "end_time": "2023-05-18T19:32:29.908742",
     "exception": false,
     "start_time": "2023-05-18T19:31:07.037696",
     "status": "completed"
    },
    "tags": []
   },
   "outputs": [
    {
     "name": "stdout",
     "output_type": "stream",
     "text": [
      "Accuracy: 0.25295238095238093 n_components: 1\n",
      "Accuracy: 0.32904761904761903 n_components: 2\n",
      "Accuracy: 0.512095238095238 n_components: 3\n",
      "Accuracy: 0.6662857142857143 n_components: 4\n",
      "Accuracy: 0.7362857142857143 n_components: 5\n",
      "Accuracy: 0.8243809523809524 n_components: 6\n",
      "Accuracy: 0.8427619047619047 n_components: 7\n",
      "Accuracy: 0.871904761904762 n_components: 8\n",
      "Accuracy: 0.8845714285714286 n_components: 9\n",
      "Accuracy: 0.9048571428571428 n_components: 10\n",
      "Accuracy: 0.912 n_components: 11\n",
      "Accuracy: 0.919047619047619 n_components: 12\n",
      "Accuracy: 0.9275238095238095 n_components: 13\n",
      "Accuracy: 0.9331428571428572 n_components: 14\n",
      "Accuracy: 0.9353333333333333 n_components: 15\n",
      "Accuracy: 0.9366666666666666 n_components: 16\n",
      "Accuracy: 0.9411428571428572 n_components: 17\n",
      "Accuracy: 0.9424761904761905 n_components: 18\n",
      "Accuracy: 0.943047619047619 n_components: 19\n",
      "Accuracy: 0.9439047619047619 n_components: 20\n",
      "Accuracy: 0.9439047619047619 n_components: 21\n",
      "Accuracy: 0.9454285714285714 n_components: 22\n",
      "Accuracy: 0.9453333333333334 n_components: 23\n",
      "Accuracy: 0.944952380952381 n_components: 24\n",
      "Accuracy: 0.9466666666666667 n_components: 25\n",
      "Accuracy: 0.9485714285714286 n_components: 26\n",
      "Accuracy: 0.9473333333333334 n_components: 27\n",
      "Accuracy: 0.949047619047619 n_components: 28\n",
      "Accuracy: 0.950952380952381 n_components: 29\n",
      "Accuracy above 95% achieved. Breaking the loop.\n"
     ]
    }
   ],
   "source": [
    "#Create a loop to check at what Column count model give best accuracy to check beeter Outcome\n",
    "#Accouracy stop chose = 95% becoz if not then it goes till all colmn till highest accuracy %\n",
    "\n",
    "for i in range(1, 785):\n",
    "    pca = PCA(n_components=i)\n",
    "    X_train_trf = pca.fit_transform(X_train)\n",
    "    X_test_trf = pca.transform(X_test)\n",
    "    \n",
    "    knn = KNeighborsClassifier()\n",
    "    knn.fit(X_train_trf, y_train)\n",
    "    y_pred = knn.predict(X_test_trf)\n",
    "    \n",
    "    accuracy = accuracy_score(y_test, y_pred)\n",
    "    print(\"Accuracy:\", accuracy, \"n_components:\", i)\n",
    "    \n",
    "    if accuracy > 0.95:\n",
    "        print(\"Accuracy above 95% achieved. Breaking the loop.\")\n",
    "        break\n",
    "        #break on 95% if not then it will run till 784 times till this will end"
   ]
  },
  {
   "cell_type": "markdown",
   "id": "982e4712",
   "metadata": {
    "papermill": {
     "duration": 0.011291,
     "end_time": "2023-05-18T19:32:29.933014",
     "exception": false,
     "start_time": "2023-05-18T19:32:29.921723",
     "status": "completed"
    },
    "tags": []
   },
   "source": [
    "Digit Recognizer with PCA"
   ]
  },
  {
   "cell_type": "code",
   "execution_count": null,
   "id": "f304a1f8",
   "metadata": {
    "papermill": {
     "duration": 0.011253,
     "end_time": "2023-05-18T19:32:29.955893",
     "exception": false,
     "start_time": "2023-05-18T19:32:29.944640",
     "status": "completed"
    },
    "tags": []
   },
   "outputs": [],
   "source": []
  }
 ],
 "metadata": {
  "kernelspec": {
   "display_name": "Python 3",
   "language": "python",
   "name": "python3"
  },
  "language_info": {
   "codemirror_mode": {
    "name": "ipython",
    "version": 3
   },
   "file_extension": ".py",
   "mimetype": "text/x-python",
   "name": "python",
   "nbconvert_exporter": "python",
   "pygments_lexer": "ipython3",
   "version": "3.10.10"
  },
  "papermill": {
   "default_parameters": {},
   "duration": 121.923114,
   "end_time": "2023-05-18T19:32:30.889858",
   "environment_variables": {},
   "exception": null,
   "input_path": "__notebook__.ipynb",
   "output_path": "__notebook__.ipynb",
   "parameters": {},
   "start_time": "2023-05-18T19:30:28.966744",
   "version": "2.4.0"
  }
 },
 "nbformat": 4,
 "nbformat_minor": 5
}
